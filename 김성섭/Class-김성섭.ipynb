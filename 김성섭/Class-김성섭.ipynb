{
 "cells": [
  {
   "cell_type": "code",
   "execution_count": 25,
   "metadata": {},
   "outputs": [
    {
     "name": "stdout",
     "output_type": "stream",
     "text": [
      "<class 'type'>\n",
      "<class '__main__.introduce'>\n"
     ]
    }
   ],
   "source": [
    "# 1. What is Class? / How to use class(basic)?\n",
    "#    Class is sum of functions and variables\n",
    "#    For using class, we have to make and def it first\n",
    "\n",
    "class introduce:\n",
    "    name = \"Python\"\n",
    "    age = \"28\"\n",
    "    def info(self):\n",
    "        print('나는', self.name, '입니다. 그리고', self.age, '살 입니다.')\n",
    "\n",
    "print(type(introduce))\n",
    "print(introduce)"
   ]
  },
  {
   "cell_type": "code",
   "execution_count": 26,
   "metadata": {},
   "outputs": [
    {
     "name": "stdout",
     "output_type": "stream",
     "text": [
      "나는 Python입니다. 그리고 28살 입니다.\n",
      "잘 부탁드립니다!\n"
     ]
    }
   ],
   "source": [
    "# 2. What is constructor？\n",
    "#    consturctor initiallizes and recalls instances\n",
    "\n",
    "class introduce:\n",
    "    name = \"Python\" # class variables\n",
    "    age = 28        # class variables\n",
    "    def __init__(self, name, age): # __init__ is class's constructor\n",
    "        self.name = name # instance variables\n",
    "        self.age = age   # instance variables\n",
    "    def intro(self):\n",
    "        print('나는 ' + self.name + '입니다. 그리고 ' + self.age + '살 입니다.')\n",
    "        print('잘 부탁드립니다!')\n",
    "\n",
    "Py=introduce('Python', '28')\n",
    "Py.intro()"
   ]
  },
  {
   "cell_type": "code",
   "execution_count": null,
   "metadata": {},
   "outputs": [],
   "source": [
    "# 3. The difference between class variables and instance variables.\n",
    "#    For using instance variables, we have to make object first.\n",
    "#    Class variables are define class's methods and share them with all of objects\n",
    "#    Marked it at Q2."
   ]
  },
  {
   "cell_type": "code",
   "execution_count": null,
   "metadata": {},
   "outputs": [],
   "source": [
    "# 4. The difference between class method and instance method.\n",
    "#    잘 모르겠습니다. 좀 더 찾아보겠습니다."
   ]
  }
 ],
 "metadata": {
  "kernelspec": {
   "display_name": "Python 3",
   "language": "python",
   "name": "python3"
  },
  "language_info": {
   "codemirror_mode": {
    "name": "ipython",
    "version": 3
   },
   "file_extension": ".py",
   "mimetype": "text/x-python",
   "name": "python",
   "nbconvert_exporter": "python",
   "pygments_lexer": "ipython3",
   "version": "3.7.4"
  }
 },
 "nbformat": 4,
 "nbformat_minor": 4
}
